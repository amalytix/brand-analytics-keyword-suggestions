{
 "cells": [
  {
   "cell_type": "markdown",
   "id": "f1efaf55",
   "metadata": {
    "jp-MarkdownHeadingCollapsed": true,
    "tags": []
   },
   "source": [
    "# Setup"
   ]
  },
  {
   "cell_type": "code",
   "execution_count": null,
   "id": "3efaa526",
   "metadata": {},
   "outputs": [],
   "source": [
    "from __future__ import print_function\n",
    "from tqdm.notebook import tqdm\n",
    "import pandas as pd\n",
    "import glob\n",
    "import time\n",
    "import numpy as np\n",
    "import os\n",
    "import math\n",
    "import pprint"
   ]
  },
  {
   "cell_type": "markdown",
   "id": "f4effff6",
   "metadata": {
    "tags": []
   },
   "source": [
    "# Load Brand Analytics Data"
   ]
  },
  {
   "cell_type": "code",
   "execution_count": null,
   "id": "13c8c4b2",
   "metadata": {},
   "outputs": [],
   "source": [
    "fileNameBA = \"./Amazon-Suchbegriffe_DE.csv\" # DE\n",
    "thousandSeparator = \".\" # DE\n",
    "columns = [\"Suchbegriff\",\"Suchfrequenz-Rang \",\"#1 der angeklickten ASINs\",\"#2 der angeklickten ASINs\",\"#3 der angeklickten ASINs\"] # DE\n",
    "# columns = [\"Search Term\",\"Search Frequency Rank\",\"#1 Clicked ASIN\",\"#2 Clicked ASIN\",\"#3 Clicked ASIN\"] # US\n",
    "\n",
    "# Load data\n",
    "dfBA = pd.read_csv(fileNameBA, thousands=thousandSeparator, usecols=columns, engine=\"python\", error_bad_lines=True, encoding='utf-8', skiprows=1,  sep=\",\")\n",
    "\n",
    "# Rename columns\n",
    "dfBA.columns = ['searchterm', 'rank', '1', '2', '3']\n",
    "\n",
    "# Unmelt dfBA from wide to long\n",
    "dfBA_Long = dfBA.melt(id_vars=[\"searchterm\", \"rank\"], var_name=\"position\", value_name=\"ASIN\")\n",
    "\n",
    "# Make position an int\n",
    "dfBA_Long = dfBA_Long.astype({\"position\": int})\n",
    "\n",
    "# Drop N/A\n",
    "dfBA_Long = dfBA_Long.dropna()\n",
    "\n",
    "# Reset index and sort\n",
    "dfBA_Long_WithIndex = dfBA_Long.set_index('searchterm')\n",
    "dfBA_Long_WithIndex = dfBA_Long_WithIndex.sort_index()"
   ]
  },
  {
   "cell_type": "code",
   "execution_count": null,
   "id": "e87aa0d2-7177-4aa0-bc5b-bb1be9a20826",
   "metadata": {},
   "outputs": [],
   "source": [
    "print(dfBA_Long_WithIndex.sample(4).to_markdown())"
   ]
  },
  {
   "cell_type": "markdown",
   "id": "3e972443",
   "metadata": {
    "jp-MarkdownHeadingCollapsed": true,
    "tags": []
   },
   "source": [
    "# Load products data"
   ]
  },
  {
   "cell_type": "code",
   "execution_count": null,
   "id": "7e414b69",
   "metadata": {},
   "outputs": [],
   "source": [
    "fileNameProducts = \"./produkt-listings.csv\"\n",
    "columns = [\"Marketplace\", \"ASIN (child)\",\"Product Title\", \"Bullet Point 1\",\"Bullet Point 2\",\"Bullet Point 3\",\"Bullet Point 4\",\"Bullet Point 5\"]\n",
    "df_Products = pd.read_csv(fileNameProducts, usecols=columns, engine=\"python\", error_bad_lines=True, encoding='utf-8', sep=\",\")\n",
    "\n",
    "# Only use DE products\n",
    "df_Products = df_Products[df_Products[\"Marketplace\"] == 'DE']"
   ]
  },
  {
   "cell_type": "markdown",
   "id": "26cebec1",
   "metadata": {
    "tags": []
   },
   "source": [
    "# For loop"
   ]
  },
  {
   "cell_type": "code",
   "execution_count": null,
   "id": "9ef125fb",
   "metadata": {},
   "outputs": [],
   "source": [
    "# Loop through all products in df_Products\n",
    "\n",
    "for ASIN in tqdm(df_Products[\"ASIN (child)\"], desc=\"Looping through products...\"):\n",
    "    \n",
    "    # Find keywords the ASIN is clicked for\n",
    "    ownedKeywords = []\n",
    "    foundKeywords = dfBA_Long[dfBA_Long['ASIN'] == ASIN].searchterm.unique()\n",
    "    ownedKeywords.append(foundKeywords)\n",
    "\n",
    "    # Get other ASINs from competitors for ownedKeywords\n",
    "    otherASINs = []\n",
    "    for searchterm in ownedKeywords[0]:\n",
    "        # print(searchterm)\n",
    "        # foundASINs = dfBA_Long[dfBA_Long['searchterm'] == searchterm].ASIN.unique().flatten()\n",
    "        \n",
    "        try:\n",
    "            temp = dfBA_Long_WithIndex.loc[searchterm].ASIN\n",
    "            if isinstance(temp, str):\n",
    "                # Result is a string\n",
    "                foundASINs = temp\n",
    "            else:\n",
    "                # Is an array\n",
    "                foundASINs = temp.unique().flatten()\n",
    "            otherASINs.append(foundASINs)\n",
    "        except KeyError:\n",
    "            pass  # do nothing!\n",
    "        \n",
    "    # Flatten array of arrays\n",
    "    flat_list_ASINs = [item for sublist in otherASINs for item in sublist]\n",
    "\n",
    "    # Make array unique using a set\n",
    "    flat_list_ASINs = set(flat_list_ASINs)\n",
    "\n",
    "    # Remove current (own) ASIN\n",
    "    try:\n",
    "        flat_list_ASINs.remove(ASIN)\n",
    "    except KeyError:\n",
    "        pass  # do nothing!\n",
    "\n",
    "    # Get unique list of keywords the other ASINs are clicked on\n",
    "    keywordsFromOtherASINs = dfBA_Long[dfBA_Long['ASIN'].isin(flat_list_ASINs)].searchterm.unique()\n",
    "\n",
    "    # Get keywords which are other ASINs clicked on but not the own ASIN yet\n",
    "    A = np.array(ownedKeywords)\n",
    "    B = np.array(keywordsFromOtherASINs)\n",
    "    missingKeywords = np.setdiff1d(B, A)\n",
    "\n",
    "    # Flatten array of arrays\n",
    "    missingKeywords_flattened = set(' '.join(missingKeywords).split(' '))\n",
    "\n",
    "    # Only get keywords which have a minimum length of 4\n",
    "    missingKeywords_flattened_reduced = [str for str in missingKeywords_flattened if len(str) >= 4]\n",
    "    missingKeywords_flattened_reduced.sort()\n",
    "    \n",
    "    # Get the product title for ASIN in question\n",
    "    productTitle = df_Products[df_Products['ASIN (child)'] == ASIN]['Product Title'].values[0].lower()\n",
    "\n",
    "    # Get all bullet points as one string\n",
    "    allBullets = []\n",
    "    currentProduct = df_Products[df_Products[\"ASIN (child)\"] == ASIN]\n",
    "    for i in range (1,6):\n",
    "        if not pd.isna(currentProduct['Bullet Point ' + str(i)].values[0]):\n",
    "            allBullets.append(currentProduct['Bullet Point ' + str(i)].values[0])\n",
    "\n",
    "    if len(allBullets) > 0:\n",
    "        allBulletsCombined = ' '.join(allBullets)\n",
    "\n",
    "    # Check if a term from missingKeywords_flattened_reduced is not in product title or bullet points\n",
    "    termsNotFoundInListing = []\n",
    "    for term in missingKeywords_flattened_reduced:\n",
    "        if (term.lower() not in productTitle) and (term.lower() not in allBulletsCombined.lower()):\n",
    "            termsNotFoundInListing.append(term)\n",
    "\n",
    "    # Add missing keywords to df_Products dataframe\n",
    "    df_Products.loc[df_Products[\"ASIN (child)\"] == ASIN, 'missing'] = str(termsNotFoundInListing)"
   ]
  },
  {
   "cell_type": "code",
   "execution_count": null,
   "id": "f7b10ef6",
   "metadata": {},
   "outputs": [],
   "source": [
    "# Show products with keyword recommendations\n",
    "suggestions = df_Products[df_Products.missing.str.len() > 2]\n",
    "suggestions"
   ]
  },
  {
   "cell_type": "code",
   "execution_count": null,
   "id": "4924d5dd",
   "metadata": {},
   "outputs": [],
   "source": [
    "# Write result to disk\n",
    "timeString = time.strftime(\"%Y%m%d-%H%M%S\")\n",
    "fileName = timeString + '-Keyword-Suggestions.xlsx'\n",
    "\n",
    "with pd.ExcelWriter(fileName) as writer:  \n",
    "    suggestions.to_excel(writer, sheet_name='Suggestions')"
   ]
  }
 ],
 "metadata": {
  "kernelspec": {
   "display_name": "Python 3",
   "language": "python",
   "name": "python3"
  },
  "language_info": {
   "codemirror_mode": {
    "name": "ipython",
    "version": 3
   },
   "file_extension": ".py",
   "mimetype": "text/x-python",
   "name": "python",
   "nbconvert_exporter": "python",
   "pygments_lexer": "ipython3",
   "version": "3.8.8"
  }
 },
 "nbformat": 4,
 "nbformat_minor": 5
}
